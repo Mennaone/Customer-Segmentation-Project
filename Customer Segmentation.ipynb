{
 "cells": [
  {
   "cell_type": "markdown",
   "metadata": {},
   "source": [
    "# Customer Segmentation Using Unsupervised Learning "
   ]
  },
  {
   "cell_type": "code",
   "execution_count": 37,
   "metadata": {},
   "outputs": [],
   "source": [
    "# import necessary libraries\n",
    "import numpy as np\n",
    "import pandas as pd\n",
    "import matplotlib.pyplot as plt\n",
    "import seaborn as sns\n",
    "from sklearn.preprocessing import StandardScaler\n",
    "from sklearn.cluster import KMeans\n",
    "import warnings\n",
    "warnings.filterwarnings('ignore')"
   ]
  },
  {
   "cell_type": "markdown",
   "metadata": {},
   "source": [
    "# Step 1: Load data from Excel workbook"
   ]
  },
  {
   "cell_type": "code",
   "execution_count": 2,
   "metadata": {},
   "outputs": [],
   "source": [
    "# Load the Customers and Transactions sheets from the Excel workbook into pandas DataFrames.\n",
    "file_path = 'E-commerce_data.xlsx'\n",
    "customers = pd.read_excel(file_path,sheet_name='customers')\n",
    "transactions = pd.read_excel(file_path,sheet_name='transactions')"
   ]
  },
  {
   "cell_type": "markdown",
   "metadata": {},
   "source": [
    " exploring data sheets"
   ]
  },
  {
   "cell_type": "code",
   "execution_count": 3,
   "metadata": {},
   "outputs": [
    {
     "data": {
      "text/html": [
       "<div>\n",
       "<style scoped>\n",
       "    .dataframe tbody tr th:only-of-type {\n",
       "        vertical-align: middle;\n",
       "    }\n",
       "\n",
       "    .dataframe tbody tr th {\n",
       "        vertical-align: top;\n",
       "    }\n",
       "\n",
       "    .dataframe thead th {\n",
       "        text-align: right;\n",
       "    }\n",
       "</style>\n",
       "<table border=\"1\" class=\"dataframe\">\n",
       "  <thead>\n",
       "    <tr style=\"text-align: right;\">\n",
       "      <th></th>\n",
       "      <th>customer_id</th>\n",
       "      <th>join_date</th>\n",
       "      <th>city_id</th>\n",
       "      <th>gender_id</th>\n",
       "    </tr>\n",
       "  </thead>\n",
       "  <tbody>\n",
       "    <tr>\n",
       "      <th>0</th>\n",
       "      <td>1</td>\n",
       "      <td>2022-01-08</td>\n",
       "      <td>7</td>\n",
       "      <td>1</td>\n",
       "    </tr>\n",
       "    <tr>\n",
       "      <th>1</th>\n",
       "      <td>2</td>\n",
       "      <td>2023-05-02</td>\n",
       "      <td>20</td>\n",
       "      <td>2</td>\n",
       "    </tr>\n",
       "    <tr>\n",
       "      <th>2</th>\n",
       "      <td>3</td>\n",
       "      <td>2023-05-14</td>\n",
       "      <td>15</td>\n",
       "      <td>1</td>\n",
       "    </tr>\n",
       "    <tr>\n",
       "      <th>3</th>\n",
       "      <td>4</td>\n",
       "      <td>2022-11-25</td>\n",
       "      <td>11</td>\n",
       "      <td>2</td>\n",
       "    </tr>\n",
       "    <tr>\n",
       "      <th>4</th>\n",
       "      <td>5</td>\n",
       "      <td>2023-04-26</td>\n",
       "      <td>8</td>\n",
       "      <td>1</td>\n",
       "    </tr>\n",
       "  </tbody>\n",
       "</table>\n",
       "</div>"
      ],
      "text/plain": [
       "   customer_id  join_date  city_id  gender_id\n",
       "0            1 2022-01-08        7          1\n",
       "1            2 2023-05-02       20          2\n",
       "2            3 2023-05-14       15          1\n",
       "3            4 2022-11-25       11          2\n",
       "4            5 2023-04-26        8          1"
      ]
     },
     "execution_count": 3,
     "metadata": {},
     "output_type": "execute_result"
    }
   ],
   "source": [
    "customers.head()"
   ]
  },
  {
   "cell_type": "code",
   "execution_count": 4,
   "metadata": {},
   "outputs": [
    {
     "data": {
      "text/plain": [
       "(1000, 4)"
      ]
     },
     "execution_count": 4,
     "metadata": {},
     "output_type": "execute_result"
    }
   ],
   "source": [
    "customers.shape"
   ]
  },
  {
   "cell_type": "code",
   "execution_count": 5,
   "metadata": {},
   "outputs": [
    {
     "name": "stdout",
     "output_type": "stream",
     "text": [
      "<class 'pandas.core.frame.DataFrame'>\n",
      "RangeIndex: 1000 entries, 0 to 999\n",
      "Data columns (total 4 columns):\n",
      " #   Column       Non-Null Count  Dtype         \n",
      "---  ------       --------------  -----         \n",
      " 0   customer_id  1000 non-null   int64         \n",
      " 1   join_date    1000 non-null   datetime64[ns]\n",
      " 2   city_id      1000 non-null   int64         \n",
      " 3   gender_id    1000 non-null   int64         \n",
      "dtypes: datetime64[ns](1), int64(3)\n",
      "memory usage: 31.4 KB\n"
     ]
    }
   ],
   "source": [
    "customers.info()"
   ]
  },
  {
   "cell_type": "code",
   "execution_count": 6,
   "metadata": {},
   "outputs": [
    {
     "data": {
      "text/html": [
       "<div>\n",
       "<style scoped>\n",
       "    .dataframe tbody tr th:only-of-type {\n",
       "        vertical-align: middle;\n",
       "    }\n",
       "\n",
       "    .dataframe tbody tr th {\n",
       "        vertical-align: top;\n",
       "    }\n",
       "\n",
       "    .dataframe thead th {\n",
       "        text-align: right;\n",
       "    }\n",
       "</style>\n",
       "<table border=\"1\" class=\"dataframe\">\n",
       "  <thead>\n",
       "    <tr style=\"text-align: right;\">\n",
       "      <th></th>\n",
       "      <th>transaction_id</th>\n",
       "      <th>customer_id</th>\n",
       "      <th>transaction_date</th>\n",
       "      <th>transaction_status</th>\n",
       "      <th>coupon_name</th>\n",
       "      <th>burn_date</th>\n",
       "      <th>branch_id</th>\n",
       "    </tr>\n",
       "  </thead>\n",
       "  <tbody>\n",
       "    <tr>\n",
       "      <th>0</th>\n",
       "      <td>1</td>\n",
       "      <td>733</td>\n",
       "      <td>2024-05-11</td>\n",
       "      <td>subscribed</td>\n",
       "      <td>uNY-568</td>\n",
       "      <td>NaT</td>\n",
       "      <td>7</td>\n",
       "    </tr>\n",
       "    <tr>\n",
       "      <th>1</th>\n",
       "      <td>2</td>\n",
       "      <td>631</td>\n",
       "      <td>2023-05-15</td>\n",
       "      <td>burned</td>\n",
       "      <td>kBx-219</td>\n",
       "      <td>2023-06-04</td>\n",
       "      <td>5</td>\n",
       "    </tr>\n",
       "    <tr>\n",
       "      <th>2</th>\n",
       "      <td>3</td>\n",
       "      <td>309</td>\n",
       "      <td>2022-11-13</td>\n",
       "      <td>subscribed</td>\n",
       "      <td>PLG-122</td>\n",
       "      <td>NaT</td>\n",
       "      <td>7</td>\n",
       "    </tr>\n",
       "    <tr>\n",
       "      <th>3</th>\n",
       "      <td>4</td>\n",
       "      <td>695</td>\n",
       "      <td>2024-01-26</td>\n",
       "      <td>subscribed</td>\n",
       "      <td>Wzf-897</td>\n",
       "      <td>NaT</td>\n",
       "      <td>2</td>\n",
       "    </tr>\n",
       "    <tr>\n",
       "      <th>4</th>\n",
       "      <td>5</td>\n",
       "      <td>288</td>\n",
       "      <td>2022-10-12</td>\n",
       "      <td>burned</td>\n",
       "      <td>qGb-428</td>\n",
       "      <td>2022-11-20</td>\n",
       "      <td>6</td>\n",
       "    </tr>\n",
       "  </tbody>\n",
       "</table>\n",
       "</div>"
      ],
      "text/plain": [
       "   transaction_id  customer_id transaction_date transaction_status  \\\n",
       "0               1          733       2024-05-11         subscribed   \n",
       "1               2          631       2023-05-15             burned   \n",
       "2               3          309       2022-11-13         subscribed   \n",
       "3               4          695       2024-01-26         subscribed   \n",
       "4               5          288       2022-10-12             burned   \n",
       "\n",
       "  coupon_name  burn_date  branch_id  \n",
       "0     uNY-568        NaT          7  \n",
       "1     kBx-219 2023-06-04          5  \n",
       "2     PLG-122        NaT          7  \n",
       "3     Wzf-897        NaT          2  \n",
       "4     qGb-428 2022-11-20          6  "
      ]
     },
     "execution_count": 6,
     "metadata": {},
     "output_type": "execute_result"
    }
   ],
   "source": [
    "transactions.head()"
   ]
  },
  {
   "cell_type": "markdown",
   "metadata": {},
   "source": [
    " check null values"
   ]
  },
  {
   "cell_type": "code",
   "execution_count": 7,
   "metadata": {},
   "outputs": [
    {
     "data": {
      "text/plain": [
       "(5000, 7)"
      ]
     },
     "execution_count": 7,
     "metadata": {},
     "output_type": "execute_result"
    }
   ],
   "source": [
    "transactions.shape"
   ]
  },
  {
   "cell_type": "code",
   "execution_count": 8,
   "metadata": {},
   "outputs": [
    {
     "name": "stdout",
     "output_type": "stream",
     "text": [
      "<class 'pandas.core.frame.DataFrame'>\n",
      "RangeIndex: 5000 entries, 0 to 4999\n",
      "Data columns (total 7 columns):\n",
      " #   Column              Non-Null Count  Dtype         \n",
      "---  ------              --------------  -----         \n",
      " 0   transaction_id      5000 non-null   int64         \n",
      " 1   customer_id         5000 non-null   int64         \n",
      " 2   transaction_date    5000 non-null   datetime64[ns]\n",
      " 3   transaction_status  5000 non-null   object        \n",
      " 4   coupon_name         5000 non-null   object        \n",
      " 5   burn_date           2516 non-null   datetime64[ns]\n",
      " 6   branch_id           5000 non-null   int64         \n",
      "dtypes: datetime64[ns](2), int64(3), object(2)\n",
      "memory usage: 273.6+ KB\n"
     ]
    }
   ],
   "source": [
    "transactions.info()"
   ]
  },
  {
   "cell_type": "code",
   "execution_count": 9,
   "metadata": {},
   "outputs": [
    {
     "data": {
      "text/plain": [
       "customer_id    0\n",
       "join_date      0\n",
       "city_id        0\n",
       "gender_id      0\n",
       "dtype: int64"
      ]
     },
     "execution_count": 9,
     "metadata": {},
     "output_type": "execute_result"
    }
   ],
   "source": [
    "customers.isna().sum()"
   ]
  },
  {
   "cell_type": "code",
   "execution_count": 7,
   "metadata": {},
   "outputs": [
    {
     "data": {
      "text/html": [
       "<div>\n",
       "<style scoped>\n",
       "    .dataframe tbody tr th:only-of-type {\n",
       "        vertical-align: middle;\n",
       "    }\n",
       "\n",
       "    .dataframe tbody tr th {\n",
       "        vertical-align: top;\n",
       "    }\n",
       "\n",
       "    .dataframe thead th {\n",
       "        text-align: right;\n",
       "    }\n",
       "</style>\n",
       "<table border=\"1\" class=\"dataframe\">\n",
       "  <thead>\n",
       "    <tr style=\"text-align: right;\">\n",
       "      <th></th>\n",
       "      <th>transaction_id</th>\n",
       "      <th>customer_id</th>\n",
       "      <th>transaction_date</th>\n",
       "      <th>transaction_status</th>\n",
       "      <th>coupon_name</th>\n",
       "      <th>burn_date</th>\n",
       "      <th>branch_id</th>\n",
       "    </tr>\n",
       "  </thead>\n",
       "  <tbody>\n",
       "    <tr>\n",
       "      <th>0</th>\n",
       "      <td>1</td>\n",
       "      <td>733</td>\n",
       "      <td>2024-05-11</td>\n",
       "      <td>subscribed</td>\n",
       "      <td>uNY-568</td>\n",
       "      <td>NaT</td>\n",
       "      <td>7</td>\n",
       "    </tr>\n",
       "    <tr>\n",
       "      <th>1</th>\n",
       "      <td>2</td>\n",
       "      <td>631</td>\n",
       "      <td>2023-05-15</td>\n",
       "      <td>burned</td>\n",
       "      <td>kBx-219</td>\n",
       "      <td>2023-06-04</td>\n",
       "      <td>5</td>\n",
       "    </tr>\n",
       "    <tr>\n",
       "      <th>2</th>\n",
       "      <td>3</td>\n",
       "      <td>309</td>\n",
       "      <td>2022-11-13</td>\n",
       "      <td>subscribed</td>\n",
       "      <td>PLG-122</td>\n",
       "      <td>NaT</td>\n",
       "      <td>7</td>\n",
       "    </tr>\n",
       "    <tr>\n",
       "      <th>3</th>\n",
       "      <td>4</td>\n",
       "      <td>695</td>\n",
       "      <td>2024-01-26</td>\n",
       "      <td>subscribed</td>\n",
       "      <td>Wzf-897</td>\n",
       "      <td>NaT</td>\n",
       "      <td>2</td>\n",
       "    </tr>\n",
       "    <tr>\n",
       "      <th>4</th>\n",
       "      <td>5</td>\n",
       "      <td>288</td>\n",
       "      <td>2022-10-12</td>\n",
       "      <td>burned</td>\n",
       "      <td>qGb-428</td>\n",
       "      <td>2022-11-20</td>\n",
       "      <td>6</td>\n",
       "    </tr>\n",
       "  </tbody>\n",
       "</table>\n",
       "</div>"
      ],
      "text/plain": [
       "   transaction_id  customer_id transaction_date transaction_status  \\\n",
       "0               1          733       2024-05-11         subscribed   \n",
       "1               2          631       2023-05-15             burned   \n",
       "2               3          309       2022-11-13         subscribed   \n",
       "3               4          695       2024-01-26         subscribed   \n",
       "4               5          288       2022-10-12             burned   \n",
       "\n",
       "  coupon_name  burn_date  branch_id  \n",
       "0     uNY-568        NaT          7  \n",
       "1     kBx-219 2023-06-04          5  \n",
       "2     PLG-122        NaT          7  \n",
       "3     Wzf-897        NaT          2  \n",
       "4     qGb-428 2022-11-20          6  "
      ]
     },
     "execution_count": 7,
     "metadata": {},
     "output_type": "execute_result"
    }
   ],
   "source": [
    "transactions.head()"
   ]
  },
  {
   "cell_type": "code",
   "execution_count": 4,
   "metadata": {},
   "outputs": [
    {
     "data": {
      "text/plain": [
       "transaction_id           0\n",
       "customer_id              0\n",
       "transaction_date         0\n",
       "transaction_status       0\n",
       "coupon_name              0\n",
       "burn_date             2484\n",
       "branch_id                0\n",
       "dtype: int64"
      ]
     },
     "execution_count": 4,
     "metadata": {},
     "output_type": "execute_result"
    }
   ],
   "source": [
    "transactions.isna().sum()"
   ]
  },
  {
   "cell_type": "markdown",
   "metadata": {},
   "source": [
    " check duplicate values"
   ]
  },
  {
   "cell_type": "code",
   "execution_count": 10,
   "metadata": {},
   "outputs": [
    {
     "data": {
      "text/plain": [
       "0"
      ]
     },
     "execution_count": 10,
     "metadata": {},
     "output_type": "execute_result"
    }
   ],
   "source": [
    "customers.duplicated().sum()"
   ]
  },
  {
   "cell_type": "code",
   "execution_count": 11,
   "metadata": {},
   "outputs": [
    {
     "data": {
      "text/plain": [
       "0"
      ]
     },
     "execution_count": 11,
     "metadata": {},
     "output_type": "execute_result"
    }
   ],
   "source": [
    "transactions.duplicated().sum()"
   ]
  },
  {
   "cell_type": "markdown",
   "metadata": {},
   "source": [
    "# Step 2: Aggregate transactional data"
   ]
  },
  {
   "cell_type": "code",
   "execution_count": 3,
   "metadata": {},
   "outputs": [],
   "source": [
    "# # Group transactions by customer_id and calculate the total number of transactions, the date of the last transaction,\n",
    "# and the count of claimed and burnt coupons for each customer.\n",
    "transactions_agg = transactions.groupby('customer_id').agg(\n",
    "    transaction_count = ('transaction_id','count'),\n",
    "    last_transaction_date = ('transaction_date','max'),\n",
    "    subscribed_count = ('transaction_status', lambda x: (x == 'subscribed').sum()),\n",
    "    burned_count = ('transaction_status', lambda x: (x == 'burned').sum())\n",
    ")"
   ]
  },
  {
   "cell_type": "code",
   "execution_count": 4,
   "metadata": {},
   "outputs": [
    {
     "data": {
      "text/html": [
       "<div>\n",
       "<style scoped>\n",
       "    .dataframe tbody tr th:only-of-type {\n",
       "        vertical-align: middle;\n",
       "    }\n",
       "\n",
       "    .dataframe tbody tr th {\n",
       "        vertical-align: top;\n",
       "    }\n",
       "\n",
       "    .dataframe thead th {\n",
       "        text-align: right;\n",
       "    }\n",
       "</style>\n",
       "<table border=\"1\" class=\"dataframe\">\n",
       "  <thead>\n",
       "    <tr style=\"text-align: right;\">\n",
       "      <th></th>\n",
       "      <th>transaction_count</th>\n",
       "      <th>last_transaction_date</th>\n",
       "      <th>subscribed_count</th>\n",
       "      <th>burned_count</th>\n",
       "    </tr>\n",
       "    <tr>\n",
       "      <th>customer_id</th>\n",
       "      <th></th>\n",
       "      <th></th>\n",
       "      <th></th>\n",
       "      <th></th>\n",
       "    </tr>\n",
       "  </thead>\n",
       "  <tbody>\n",
       "    <tr>\n",
       "      <th>1</th>\n",
       "      <td>7</td>\n",
       "      <td>2024-05-26</td>\n",
       "      <td>4</td>\n",
       "      <td>3</td>\n",
       "    </tr>\n",
       "    <tr>\n",
       "      <th>2</th>\n",
       "      <td>3</td>\n",
       "      <td>2023-10-21</td>\n",
       "      <td>2</td>\n",
       "      <td>1</td>\n",
       "    </tr>\n",
       "    <tr>\n",
       "      <th>3</th>\n",
       "      <td>5</td>\n",
       "      <td>2024-07-05</td>\n",
       "      <td>4</td>\n",
       "      <td>1</td>\n",
       "    </tr>\n",
       "    <tr>\n",
       "      <th>4</th>\n",
       "      <td>1</td>\n",
       "      <td>2023-01-15</td>\n",
       "      <td>1</td>\n",
       "      <td>0</td>\n",
       "    </tr>\n",
       "    <tr>\n",
       "      <th>5</th>\n",
       "      <td>4</td>\n",
       "      <td>2024-07-02</td>\n",
       "      <td>1</td>\n",
       "      <td>3</td>\n",
       "    </tr>\n",
       "    <tr>\n",
       "      <th>...</th>\n",
       "      <td>...</td>\n",
       "      <td>...</td>\n",
       "      <td>...</td>\n",
       "      <td>...</td>\n",
       "    </tr>\n",
       "    <tr>\n",
       "      <th>996</th>\n",
       "      <td>3</td>\n",
       "      <td>2024-05-09</td>\n",
       "      <td>3</td>\n",
       "      <td>0</td>\n",
       "    </tr>\n",
       "    <tr>\n",
       "      <th>997</th>\n",
       "      <td>3</td>\n",
       "      <td>2024-01-23</td>\n",
       "      <td>2</td>\n",
       "      <td>1</td>\n",
       "    </tr>\n",
       "    <tr>\n",
       "      <th>998</th>\n",
       "      <td>4</td>\n",
       "      <td>2024-06-27</td>\n",
       "      <td>1</td>\n",
       "      <td>3</td>\n",
       "    </tr>\n",
       "    <tr>\n",
       "      <th>999</th>\n",
       "      <td>4</td>\n",
       "      <td>2024-04-09</td>\n",
       "      <td>0</td>\n",
       "      <td>4</td>\n",
       "    </tr>\n",
       "    <tr>\n",
       "      <th>1000</th>\n",
       "      <td>2</td>\n",
       "      <td>2024-04-27</td>\n",
       "      <td>1</td>\n",
       "      <td>1</td>\n",
       "    </tr>\n",
       "  </tbody>\n",
       "</table>\n",
       "<p>989 rows × 4 columns</p>\n",
       "</div>"
      ],
      "text/plain": [
       "             transaction_count last_transaction_date  subscribed_count  \\\n",
       "customer_id                                                              \n",
       "1                            7            2024-05-26                 4   \n",
       "2                            3            2023-10-21                 2   \n",
       "3                            5            2024-07-05                 4   \n",
       "4                            1            2023-01-15                 1   \n",
       "5                            4            2024-07-02                 1   \n",
       "...                        ...                   ...               ...   \n",
       "996                          3            2024-05-09                 3   \n",
       "997                          3            2024-01-23                 2   \n",
       "998                          4            2024-06-27                 1   \n",
       "999                          4            2024-04-09                 0   \n",
       "1000                         2            2024-04-27                 1   \n",
       "\n",
       "             burned_count  \n",
       "customer_id                \n",
       "1                       3  \n",
       "2                       1  \n",
       "3                       1  \n",
       "4                       0  \n",
       "5                       3  \n",
       "...                   ...  \n",
       "996                     0  \n",
       "997                     1  \n",
       "998                     3  \n",
       "999                     4  \n",
       "1000                    1  \n",
       "\n",
       "[989 rows x 4 columns]"
      ]
     },
     "execution_count": 4,
     "metadata": {},
     "output_type": "execute_result"
    }
   ],
   "source": [
    "transactions_agg"
   ]
  },
  {
   "cell_type": "markdown",
   "metadata": {},
   "source": [
    "# Step 3: Calculate recency"
   ]
  },
  {
   "cell_type": "code",
   "execution_count": 5,
   "metadata": {},
   "outputs": [],
   "source": [
    "# Calculate the number of days since the last transaction for each customer.\n",
    "transactions_agg['recency'] = (pd.to_datetime('today') - pd.to_datetime(transactions_agg['last_transaction_date'])).dt.days"
   ]
  },
  {
   "cell_type": "markdown",
   "metadata": {},
   "source": [
    "# Step 4: Merge with customer demographics"
   ]
  },
  {
   "cell_type": "code",
   "execution_count": 6,
   "metadata": {},
   "outputs": [],
   "source": [
    "# Merge the aggregated transactional data with the Customers table to include demographic features\n",
    "customer_data = pd.merge(customers,transactions_agg,on='customer_id')"
   ]
  },
  {
   "cell_type": "code",
   "execution_count": 22,
   "metadata": {},
   "outputs": [
    {
     "data": {
      "text/html": [
       "<div>\n",
       "<style scoped>\n",
       "    .dataframe tbody tr th:only-of-type {\n",
       "        vertical-align: middle;\n",
       "    }\n",
       "\n",
       "    .dataframe tbody tr th {\n",
       "        vertical-align: top;\n",
       "    }\n",
       "\n",
       "    .dataframe thead th {\n",
       "        text-align: right;\n",
       "    }\n",
       "</style>\n",
       "<table border=\"1\" class=\"dataframe\">\n",
       "  <thead>\n",
       "    <tr style=\"text-align: right;\">\n",
       "      <th></th>\n",
       "      <th>customer_id</th>\n",
       "      <th>join_date</th>\n",
       "      <th>city_id</th>\n",
       "      <th>gender_id</th>\n",
       "      <th>transaction_count</th>\n",
       "      <th>last_transaction_date</th>\n",
       "      <th>subscribed_count</th>\n",
       "      <th>burned_count</th>\n",
       "      <th>recency</th>\n",
       "    </tr>\n",
       "  </thead>\n",
       "  <tbody>\n",
       "    <tr>\n",
       "      <th>0</th>\n",
       "      <td>1</td>\n",
       "      <td>2022-01-08</td>\n",
       "      <td>7</td>\n",
       "      <td>1</td>\n",
       "      <td>7</td>\n",
       "      <td>2024-05-26</td>\n",
       "      <td>4</td>\n",
       "      <td>3</td>\n",
       "      <td>285</td>\n",
       "    </tr>\n",
       "    <tr>\n",
       "      <th>1</th>\n",
       "      <td>2</td>\n",
       "      <td>2023-05-02</td>\n",
       "      <td>20</td>\n",
       "      <td>2</td>\n",
       "      <td>3</td>\n",
       "      <td>2023-10-21</td>\n",
       "      <td>2</td>\n",
       "      <td>1</td>\n",
       "      <td>503</td>\n",
       "    </tr>\n",
       "    <tr>\n",
       "      <th>2</th>\n",
       "      <td>3</td>\n",
       "      <td>2023-05-14</td>\n",
       "      <td>15</td>\n",
       "      <td>1</td>\n",
       "      <td>5</td>\n",
       "      <td>2024-07-05</td>\n",
       "      <td>4</td>\n",
       "      <td>1</td>\n",
       "      <td>245</td>\n",
       "    </tr>\n",
       "    <tr>\n",
       "      <th>3</th>\n",
       "      <td>4</td>\n",
       "      <td>2022-11-25</td>\n",
       "      <td>11</td>\n",
       "      <td>2</td>\n",
       "      <td>1</td>\n",
       "      <td>2023-01-15</td>\n",
       "      <td>1</td>\n",
       "      <td>0</td>\n",
       "      <td>782</td>\n",
       "    </tr>\n",
       "    <tr>\n",
       "      <th>4</th>\n",
       "      <td>5</td>\n",
       "      <td>2023-04-26</td>\n",
       "      <td>8</td>\n",
       "      <td>1</td>\n",
       "      <td>4</td>\n",
       "      <td>2024-07-02</td>\n",
       "      <td>1</td>\n",
       "      <td>3</td>\n",
       "      <td>248</td>\n",
       "    </tr>\n",
       "  </tbody>\n",
       "</table>\n",
       "</div>"
      ],
      "text/plain": [
       "   customer_id  join_date  city_id  gender_id  transaction_count  \\\n",
       "0            1 2022-01-08        7          1                  7   \n",
       "1            2 2023-05-02       20          2                  3   \n",
       "2            3 2023-05-14       15          1                  5   \n",
       "3            4 2022-11-25       11          2                  1   \n",
       "4            5 2023-04-26        8          1                  4   \n",
       "\n",
       "  last_transaction_date  subscribed_count  burned_count  recency  \n",
       "0            2024-05-26                 4             3      285  \n",
       "1            2023-10-21                 2             1      503  \n",
       "2            2024-07-05                 4             1      245  \n",
       "3            2023-01-15                 1             0      782  \n",
       "4            2024-07-02                 1             3      248  "
      ]
     },
     "execution_count": 22,
     "metadata": {},
     "output_type": "execute_result"
    }
   ],
   "source": [
    "customer_data.head()"
   ]
  },
  {
   "cell_type": "markdown",
   "metadata": {},
   "source": [
    "# Step 5: Select features"
   ]
  },
  {
   "cell_type": "code",
   "execution_count": 7,
   "metadata": {},
   "outputs": [],
   "source": [
    "# Select the relevant features for clustering, including demographic and transactional features.\n",
    "features = customer_data[['gender_id','city_id','transaction_count','subscribed_count','burned_count','recency']]\n",
    "\n",
    "# Normalize the data to ensure all features contribute equally to the clustering\n",
    "scaler = StandardScaler()\n",
    "scaled_features = scaler.fit_transform(features)\n",
    "scaled_features = pd.DataFrame(scaled_features,columns=features.columns)"
   ]
  },
  {
   "cell_type": "code",
   "execution_count": 8,
   "metadata": {},
   "outputs": [
    {
     "data": {
      "text/html": [
       "<div>\n",
       "<style scoped>\n",
       "    .dataframe tbody tr th:only-of-type {\n",
       "        vertical-align: middle;\n",
       "    }\n",
       "\n",
       "    .dataframe tbody tr th {\n",
       "        vertical-align: top;\n",
       "    }\n",
       "\n",
       "    .dataframe thead th {\n",
       "        text-align: right;\n",
       "    }\n",
       "</style>\n",
       "<table border=\"1\" class=\"dataframe\">\n",
       "  <thead>\n",
       "    <tr style=\"text-align: right;\">\n",
       "      <th></th>\n",
       "      <th>gender_id</th>\n",
       "      <th>city_id</th>\n",
       "      <th>transaction_count</th>\n",
       "      <th>subscribed_count</th>\n",
       "      <th>burned_count</th>\n",
       "      <th>recency</th>\n",
       "    </tr>\n",
       "  </thead>\n",
       "  <tbody>\n",
       "    <tr>\n",
       "      <th>0</th>\n",
       "      <td>-0.980970</td>\n",
       "      <td>-0.531909</td>\n",
       "      <td>0.855575</td>\n",
       "      <td>0.926711</td>\n",
       "      <td>0.293019</td>\n",
       "      <td>-0.421374</td>\n",
       "    </tr>\n",
       "    <tr>\n",
       "      <th>1</th>\n",
       "      <td>1.019399</td>\n",
       "      <td>1.677704</td>\n",
       "      <td>-0.904516</td>\n",
       "      <td>-0.318557</td>\n",
       "      <td>-0.992105</td>\n",
       "      <td>1.192314</td>\n",
       "    </tr>\n",
       "    <tr>\n",
       "      <th>2</th>\n",
       "      <td>-0.980970</td>\n",
       "      <td>0.827853</td>\n",
       "      <td>-0.024470</td>\n",
       "      <td>0.926711</td>\n",
       "      <td>-0.992105</td>\n",
       "      <td>-0.717463</td>\n",
       "    </tr>\n",
       "    <tr>\n",
       "      <th>3</th>\n",
       "      <td>1.019399</td>\n",
       "      <td>0.147972</td>\n",
       "      <td>-1.784562</td>\n",
       "      <td>-0.941191</td>\n",
       "      <td>-1.634667</td>\n",
       "      <td>3.257538</td>\n",
       "    </tr>\n",
       "    <tr>\n",
       "      <th>4</th>\n",
       "      <td>-0.980970</td>\n",
       "      <td>-0.361939</td>\n",
       "      <td>-0.464493</td>\n",
       "      <td>-0.941191</td>\n",
       "      <td>0.293019</td>\n",
       "      <td>-0.695256</td>\n",
       "    </tr>\n",
       "    <tr>\n",
       "      <th>...</th>\n",
       "      <td>...</td>\n",
       "      <td>...</td>\n",
       "      <td>...</td>\n",
       "      <td>...</td>\n",
       "      <td>...</td>\n",
       "      <td>...</td>\n",
       "    </tr>\n",
       "    <tr>\n",
       "      <th>984</th>\n",
       "      <td>-0.980970</td>\n",
       "      <td>-1.211790</td>\n",
       "      <td>-0.904516</td>\n",
       "      <td>0.304077</td>\n",
       "      <td>-1.634667</td>\n",
       "      <td>-0.295536</td>\n",
       "    </tr>\n",
       "    <tr>\n",
       "      <th>985</th>\n",
       "      <td>1.019399</td>\n",
       "      <td>1.677704</td>\n",
       "      <td>-0.904516</td>\n",
       "      <td>-0.318557</td>\n",
       "      <td>-0.992105</td>\n",
       "      <td>0.496504</td>\n",
       "    </tr>\n",
       "    <tr>\n",
       "      <th>986</th>\n",
       "      <td>1.019399</td>\n",
       "      <td>0.147972</td>\n",
       "      <td>-0.464493</td>\n",
       "      <td>-0.941191</td>\n",
       "      <td>0.293019</td>\n",
       "      <td>-0.658245</td>\n",
       "    </tr>\n",
       "    <tr>\n",
       "      <th>987</th>\n",
       "      <td>-0.980970</td>\n",
       "      <td>-0.701879</td>\n",
       "      <td>-0.464493</td>\n",
       "      <td>-1.563826</td>\n",
       "      <td>0.935580</td>\n",
       "      <td>-0.073469</td>\n",
       "    </tr>\n",
       "    <tr>\n",
       "      <th>988</th>\n",
       "      <td>1.019399</td>\n",
       "      <td>-1.381760</td>\n",
       "      <td>-1.344539</td>\n",
       "      <td>-0.941191</td>\n",
       "      <td>-0.992105</td>\n",
       "      <td>-0.206709</td>\n",
       "    </tr>\n",
       "  </tbody>\n",
       "</table>\n",
       "<p>989 rows × 6 columns</p>\n",
       "</div>"
      ],
      "text/plain": [
       "     gender_id   city_id  transaction_count  subscribed_count  burned_count  \\\n",
       "0    -0.980970 -0.531909           0.855575          0.926711      0.293019   \n",
       "1     1.019399  1.677704          -0.904516         -0.318557     -0.992105   \n",
       "2    -0.980970  0.827853          -0.024470          0.926711     -0.992105   \n",
       "3     1.019399  0.147972          -1.784562         -0.941191     -1.634667   \n",
       "4    -0.980970 -0.361939          -0.464493         -0.941191      0.293019   \n",
       "..         ...       ...                ...               ...           ...   \n",
       "984  -0.980970 -1.211790          -0.904516          0.304077     -1.634667   \n",
       "985   1.019399  1.677704          -0.904516         -0.318557     -0.992105   \n",
       "986   1.019399  0.147972          -0.464493         -0.941191      0.293019   \n",
       "987  -0.980970 -0.701879          -0.464493         -1.563826      0.935580   \n",
       "988   1.019399 -1.381760          -1.344539         -0.941191     -0.992105   \n",
       "\n",
       "      recency  \n",
       "0   -0.421374  \n",
       "1    1.192314  \n",
       "2   -0.717463  \n",
       "3    3.257538  \n",
       "4   -0.695256  \n",
       "..        ...  \n",
       "984 -0.295536  \n",
       "985  0.496504  \n",
       "986 -0.658245  \n",
       "987 -0.073469  \n",
       "988 -0.206709  \n",
       "\n",
       "[989 rows x 6 columns]"
      ]
     },
     "execution_count": 8,
     "metadata": {},
     "output_type": "execute_result"
    }
   ],
   "source": [
    "scaled_features"
   ]
  },
  {
   "cell_type": "markdown",
   "metadata": {},
   "source": [
    "# Step 6: Determine optimal number of clusters"
   ]
  },
  {
   "cell_type": "code",
   "execution_count": 11,
   "metadata": {},
   "outputs": [],
   "source": [
    "# Use the Elbow Method to find the optimal number of clusters by plotting the sum of squares for different numbers of clusters.\n",
    "sse = []\n",
    "for k in range(1,11):\n",
    "    kmean_model = KMeans(n_clusters=k,random_state=0,init='k-means++',max_iter=300,n_init=10)\n",
    "    kmean_model.fit(scaled_features)\n",
    "    sse.append(kmean_model.inertia_)"
   ]
  },
  {
   "cell_type": "code",
   "execution_count": 12,
   "metadata": {},
   "outputs": [
    {
     "data": {
      "image/png": "[encoded data removed]",
      "text/plain": [
       "<Figure size 640x480 with 1 Axes>"
      ]
     },
     "metadata": {},
     "output_type": "display_data"
    }
   ],
   "source": [
    "# Plot the Elbow Method graph to visualize the optimal number of clusters.\n",
    "plt.plot(range(1,11),sse,marker='o')\n",
    "plt.title('Elbow Method')\n",
    "plt.xlabel('Number of Clusters')\n",
    "plt.ylabel('Distance')\n",
    "plt.show()"
   ]
  },
  {
   "cell_type": "markdown",
   "metadata": {},
   "source": [
    "# Step 7: Train K-means model"
   ]
  },
  {
   "cell_type": "code",
   "execution_count": 13,
   "metadata": {},
   "outputs": [],
   "source": [
    "# Train the K-means clustering model with the optimal number of clusters (6 clusters).\n",
    "kmean_model = KMeans(n_clusters=6,random_state=0,init='k-means++',max_iter=300,n_init=10)\n",
    "clusters = kmean_model.fit_predict(scaled_features)"
   ]
  },
  {
   "cell_type": "markdown",
   "metadata": {},
   "source": [
    "# Step 8: Add cluster labels to the original data"
   ]
  },
  {
   "cell_type": "code",
   "execution_count": 14,
   "metadata": {},
   "outputs": [
    {
     "data": {
      "text/html": [
       "<div>\n",
       "<style scoped>\n",
       "    .dataframe tbody tr th:only-of-type {\n",
       "        vertical-align: middle;\n",
       "    }\n",
       "\n",
       "    .dataframe tbody tr th {\n",
       "        vertical-align: top;\n",
       "    }\n",
       "\n",
       "    .dataframe thead th {\n",
       "        text-align: right;\n",
       "    }\n",
       "</style>\n",
       "<table border=\"1\" class=\"dataframe\">\n",
       "  <thead>\n",
       "    <tr style=\"text-align: right;\">\n",
       "      <th></th>\n",
       "      <th>customer_id</th>\n",
       "      <th>join_date</th>\n",
       "      <th>city_id</th>\n",
       "      <th>gender_id</th>\n",
       "      <th>transaction_count</th>\n",
       "      <th>last_transaction_date</th>\n",
       "      <th>subscribed_count</th>\n",
       "      <th>burned_count</th>\n",
       "      <th>recency</th>\n",
       "      <th>clusters</th>\n",
       "    </tr>\n",
       "  </thead>\n",
       "  <tbody>\n",
       "    <tr>\n",
       "      <th>0</th>\n",
       "      <td>1</td>\n",
       "      <td>2022-01-08</td>\n",
       "      <td>7</td>\n",
       "      <td>1</td>\n",
       "      <td>7</td>\n",
       "      <td>2024-05-26</td>\n",
       "      <td>4</td>\n",
       "      <td>3</td>\n",
       "      <td>285</td>\n",
       "      <td>5</td>\n",
       "    </tr>\n",
       "    <tr>\n",
       "      <th>1</th>\n",
       "      <td>2</td>\n",
       "      <td>2023-05-02</td>\n",
       "      <td>20</td>\n",
       "      <td>2</td>\n",
       "      <td>3</td>\n",
       "      <td>2023-10-21</td>\n",
       "      <td>2</td>\n",
       "      <td>1</td>\n",
       "      <td>503</td>\n",
       "      <td>1</td>\n",
       "    </tr>\n",
       "    <tr>\n",
       "      <th>2</th>\n",
       "      <td>3</td>\n",
       "      <td>2023-05-14</td>\n",
       "      <td>15</td>\n",
       "      <td>1</td>\n",
       "      <td>5</td>\n",
       "      <td>2024-07-05</td>\n",
       "      <td>4</td>\n",
       "      <td>1</td>\n",
       "      <td>245</td>\n",
       "      <td>3</td>\n",
       "    </tr>\n",
       "    <tr>\n",
       "      <th>3</th>\n",
       "      <td>4</td>\n",
       "      <td>2022-11-25</td>\n",
       "      <td>11</td>\n",
       "      <td>2</td>\n",
       "      <td>1</td>\n",
       "      <td>2023-01-15</td>\n",
       "      <td>1</td>\n",
       "      <td>0</td>\n",
       "      <td>782</td>\n",
       "      <td>2</td>\n",
       "    </tr>\n",
       "    <tr>\n",
       "      <th>4</th>\n",
       "      <td>5</td>\n",
       "      <td>2023-04-26</td>\n",
       "      <td>8</td>\n",
       "      <td>1</td>\n",
       "      <td>4</td>\n",
       "      <td>2024-07-02</td>\n",
       "      <td>1</td>\n",
       "      <td>3</td>\n",
       "      <td>248</td>\n",
       "      <td>3</td>\n",
       "    </tr>\n",
       "    <tr>\n",
       "      <th>...</th>\n",
       "      <td>...</td>\n",
       "      <td>...</td>\n",
       "      <td>...</td>\n",
       "      <td>...</td>\n",
       "      <td>...</td>\n",
       "      <td>...</td>\n",
       "      <td>...</td>\n",
       "      <td>...</td>\n",
       "      <td>...</td>\n",
       "      <td>...</td>\n",
       "    </tr>\n",
       "    <tr>\n",
       "      <th>984</th>\n",
       "      <td>996</td>\n",
       "      <td>2022-10-28</td>\n",
       "      <td>3</td>\n",
       "      <td>1</td>\n",
       "      <td>3</td>\n",
       "      <td>2024-05-09</td>\n",
       "      <td>3</td>\n",
       "      <td>0</td>\n",
       "      <td>302</td>\n",
       "      <td>3</td>\n",
       "    </tr>\n",
       "    <tr>\n",
       "      <th>985</th>\n",
       "      <td>997</td>\n",
       "      <td>2022-07-07</td>\n",
       "      <td>20</td>\n",
       "      <td>2</td>\n",
       "      <td>3</td>\n",
       "      <td>2024-01-23</td>\n",
       "      <td>2</td>\n",
       "      <td>1</td>\n",
       "      <td>409</td>\n",
       "      <td>1</td>\n",
       "    </tr>\n",
       "    <tr>\n",
       "      <th>986</th>\n",
       "      <td>998</td>\n",
       "      <td>2024-03-09</td>\n",
       "      <td>11</td>\n",
       "      <td>2</td>\n",
       "      <td>4</td>\n",
       "      <td>2024-06-27</td>\n",
       "      <td>1</td>\n",
       "      <td>3</td>\n",
       "      <td>253</td>\n",
       "      <td>1</td>\n",
       "    </tr>\n",
       "    <tr>\n",
       "      <th>987</th>\n",
       "      <td>999</td>\n",
       "      <td>2022-07-16</td>\n",
       "      <td>6</td>\n",
       "      <td>1</td>\n",
       "      <td>4</td>\n",
       "      <td>2024-04-09</td>\n",
       "      <td>0</td>\n",
       "      <td>4</td>\n",
       "      <td>332</td>\n",
       "      <td>3</td>\n",
       "    </tr>\n",
       "    <tr>\n",
       "      <th>988</th>\n",
       "      <td>1000</td>\n",
       "      <td>2024-04-08</td>\n",
       "      <td>2</td>\n",
       "      <td>2</td>\n",
       "      <td>2</td>\n",
       "      <td>2024-04-27</td>\n",
       "      <td>1</td>\n",
       "      <td>1</td>\n",
       "      <td>314</td>\n",
       "      <td>4</td>\n",
       "    </tr>\n",
       "  </tbody>\n",
       "</table>\n",
       "<p>989 rows × 10 columns</p>\n",
       "</div>"
      ],
      "text/plain": [
       "     customer_id  join_date  city_id  gender_id  transaction_count  \\\n",
       "0              1 2022-01-08        7          1                  7   \n",
       "1              2 2023-05-02       20          2                  3   \n",
       "2              3 2023-05-14       15          1                  5   \n",
       "3              4 2022-11-25       11          2                  1   \n",
       "4              5 2023-04-26        8          1                  4   \n",
       "..           ...        ...      ...        ...                ...   \n",
       "984          996 2022-10-28        3          1                  3   \n",
       "985          997 2022-07-07       20          2                  3   \n",
       "986          998 2024-03-09       11          2                  4   \n",
       "987          999 2022-07-16        6          1                  4   \n",
       "988         1000 2024-04-08        2          2                  2   \n",
       "\n",
       "    last_transaction_date  subscribed_count  burned_count  recency  clusters  \n",
       "0              2024-05-26                 4             3      285         5  \n",
       "1              2023-10-21                 2             1      503         1  \n",
       "2              2024-07-05                 4             1      245         3  \n",
       "3              2023-01-15                 1             0      782         2  \n",
       "4              2024-07-02                 1             3      248         3  \n",
       "..                    ...               ...           ...      ...       ...  \n",
       "984            2024-05-09                 3             0      302         3  \n",
       "985            2024-01-23                 2             1      409         1  \n",
       "986            2024-06-27                 1             3      253         1  \n",
       "987            2024-04-09                 0             4      332         3  \n",
       "988            2024-04-27                 1             1      314         4  \n",
       "\n",
       "[989 rows x 10 columns]"
      ]
     },
     "execution_count": 14,
     "metadata": {},
     "output_type": "execute_result"
    }
   ],
   "source": [
    "# Add the cluster labels to the customer_data DataFrame \n",
    "# to identify which cluster each customer belongs to.\n",
    "customer_data['clusters'] = clusters\n",
    "customer_data"
   ]
  },
  {
   "cell_type": "markdown",
   "metadata": {},
   "source": [
    "# Step 9: Segment Analysis and Recommendations"
   ]
  },
  {
   "cell_type": "code",
   "execution_count": 16,
   "metadata": {},
   "outputs": [
    {
     "name": "stdout",
     "output_type": "stream",
     "text": [
      "Cluster Analysis:\n",
      "\n",
      "          customer_id                     join_date    city_id  gender_id  \\\n",
      "clusters                                                                    \n",
      "0          520.140625 2023-02-13 09:45:00.000000000  11.593750   1.250000   \n",
      "1          502.520958 2023-01-22 14:13:39.161676544  15.053892   2.000000   \n",
      "2          448.464286 2022-03-19 21:42:51.428571392   9.809524   1.500000   \n",
      "3          482.650376 2023-03-05 05:30:13.533834496   9.586466   1.000000   \n",
      "4          536.237838 2023-02-18 04:24:38.918918912   4.924324   2.000000   \n",
      "5          499.408805 2023-01-14 08:09:03.396226304  10.911950   1.371069   \n",
      "\n",
      "          transaction_count         last_transaction_date  subscribed_count  \\\n",
      "clusters                                                                      \n",
      "0                  6.835938 2024-05-09 05:48:45.000000000          1.968750   \n",
      "1                  3.832335 2024-04-23 00:00:00.000000000          1.880240   \n",
      "2                  2.535714 2023-04-21 23:42:51.428571392          1.190476   \n",
      "3                  3.751880 2024-04-22 13:59:05.864661760          2.003759   \n",
      "4                  5.178378 2024-05-02 02:20:06.486486528          2.632432   \n",
      "5                  8.276730 2024-05-15 02:43:01.132075520          5.018868   \n",
      "\n",
      "          burned_count     recency  \n",
      "clusters                            \n",
      "0             4.867188  301.757812  \n",
      "1             1.952096  318.000000  \n",
      "2             1.345238  685.011905  \n",
      "3             1.748120  318.417293  \n",
      "4             2.545946  308.902703  \n",
      "5             3.257862  295.886792  \n"
     ]
    }
   ],
   "source": [
    "# Analyze clusters\n",
    "cluster_analysis = customer_data.groupby('clusters').mean()\n",
    "\n",
    "# Print cluster analysis\n",
    "print(\"Cluster Analysis:\\n\")\n",
    "print(cluster_analysis)"
   ]
  },
  {
   "cell_type": "code",
   "execution_count": 35,
   "metadata": {},
   "outputs": [],
   "source": [
    "# Analyze ans describe each segment\n",
    "segment_descriptions = []\n",
    "recommendations = []\n",
    "\n",
    "for cluster in cluster_analysis.index:\n",
    "    description = f\"\\nSegment {cluster}:\"\n",
    "    description += f\"\\n- Average Transaction Count: {cluster_analysis.loc[cluster, 'transaction_count']:.2f}\"\n",
    "    description += f\"\\n- Average Recency (days): {cluster_analysis.loc[cluster, 'recency']:.2f}\"\n",
    "    description += f\"\\n- Average Claimed Coupons: {cluster_analysis.loc[cluster, 'subscribed_count']:.2f}\"\n",
    "    description += f\"\\n- Average Burnt Coupons: {cluster_analysis.loc[cluster, 'burned_count']:.2f}\"\n",
    "    \n",
    "    if cluster_analysis.loc[cluster, 'burned_count'] > cluster_analysis['burned_count'].mean():\n",
    "        recommendation = f\"\\nSegment {cluster} shows high coupon usage. Recommend offering exclusive discounts and loyalty rewards to retain these customers.\"\n",
    "    elif cluster_analysis.loc[cluster, 'subscribed_count'] > cluster_analysis['subscribed_count'].mean():\n",
    "        recommendation = f\"\\nSegment {cluster} claims many coupons but burns fewer. Recommend sending reminders and limited-time offers to encourage coupon usage.\"\n",
    "    else:\n",
    "        recommendation = f\"\\nSegment {cluster} shows lower engagement. Recommend targeted marketing campaigns and special offers to increase activity.\"\n",
    "\n",
    "    segment_descriptions.append(description)\n",
    "    recommendations.append(recommendation)"
   ]
  },
  {
   "cell_type": "code",
   "execution_count": 36,
   "metadata": {},
   "outputs": [
    {
     "name": "stdout",
     "output_type": "stream",
     "text": [
      "\n",
      "Segment 0:\n",
      "- Average Transaction Count: 6.84\n",
      "- Average Recency (days): 301.76\n",
      "- Average Claimed Coupons: 1.97\n",
      "- Average Burnt Coupons: 4.87\n",
      "\n",
      "Segment 0 shows high coupon usage. Recommend offering exclusive discounts and loyalty rewards to retain these customers.\n",
      "\n",
      "Segment 1:\n",
      "- Average Transaction Count: 3.83\n",
      "- Average Recency (days): 318.00\n",
      "- Average Claimed Coupons: 1.88\n",
      "- Average Burnt Coupons: 1.95\n",
      "\n",
      "Segment 1 shows lower engagement. Recommend targeted marketing campaigns and special offers to increase activity.\n",
      "\n",
      "Segment 2:\n",
      "- Average Transaction Count: 2.54\n",
      "- Average Recency (days): 685.01\n",
      "- Average Claimed Coupons: 1.19\n",
      "- Average Burnt Coupons: 1.35\n",
      "\n",
      "Segment 2 shows lower engagement. Recommend targeted marketing campaigns and special offers to increase activity.\n",
      "\n",
      "Segment 3:\n",
      "- Average Transaction Count: 3.75\n",
      "- Average Recency (days): 318.42\n",
      "- Average Claimed Coupons: 2.00\n",
      "- Average Burnt Coupons: 1.75\n",
      "\n",
      "Segment 3 shows lower engagement. Recommend targeted marketing campaigns and special offers to increase activity.\n",
      "\n",
      "Segment 4:\n",
      "- Average Transaction Count: 5.18\n",
      "- Average Recency (days): 308.90\n",
      "- Average Claimed Coupons: 2.63\n",
      "- Average Burnt Coupons: 2.55\n",
      "\n",
      "Segment 4 claims many coupons but burns fewer. Recommend sending reminders and limited-time offers to encourage coupon usage.\n",
      "\n",
      "Segment 5:\n",
      "- Average Transaction Count: 8.28\n",
      "- Average Recency (days): 295.89\n",
      "- Average Claimed Coupons: 5.02\n",
      "- Average Burnt Coupons: 3.26\n",
      "\n",
      "Segment 5 shows high coupon usage. Recommend offering exclusive discounts and loyalty rewards to retain these customers.\n"
     ]
    }
   ],
   "source": [
    "# Print segment descriptions and recommendations\n",
    "for description, recommendation in zip(segment_descriptions, recommendations):\n",
    "    print(description)\n",
    "    print(recommendation)"
   ]
  }
 ],
 "metadata": {
  "kernelspec": {
   "display_name": "base",
   "language": "python",
   "name": "python3"
  },
  "language_info": {
   "codemirror_mode": {
    "name": "ipython",
    "version": 3
   },
   "file_extension": ".py",
   "mimetype": "text/x-python",
   "name": "python",
   "nbconvert_exporter": "python",
   "pygments_lexer": "ipython3",
   "version": "3.12.7"
  }
 },
 "nbformat": 4,
 "nbformat_minor": 2
}
